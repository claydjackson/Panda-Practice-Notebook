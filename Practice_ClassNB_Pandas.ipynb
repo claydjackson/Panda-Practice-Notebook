{
 "cells": [
  {
   "cell_type": "markdown",
   "id": "e266950b",
   "metadata": {},
   "source": [
    "### We're going to use a new dataset here, to demonstrate how to deal with larger datasets. This is a subset of the of 311 service requests from [NYC Open Data](https://nycopendata.socrata.com/Social-Services/311-Service-Requests-from-2010-to-Present/erm2-nwe9). \n",
    "Work in a group whom you did not worked before and submit the work before Next class\n",
    "- Rename the notebook Practice_ClassNB_Pandas_XX (your initial)\n",
    "- Indivijual submission "
   ]
  },
  {
   "cell_type": "markdown",
   "id": "2cc29949",
   "metadata": {},
   "source": [
    "#### Import pandas, numpy"
   ]
  },
  {
   "cell_type": "code",
   "execution_count": 1,
   "id": "7ad62f84",
   "metadata": {},
   "outputs": [],
   "source": [
    "import pandas as pd\n",
    "import numpy as np"
   ]
  },
  {
   "cell_type": "markdown",
   "id": "2146556e",
   "metadata": {},
   "source": [
    "### 1. Load the data using read_csv and give it a name complains"
   ]
  },
  {
   "cell_type": "markdown",
   "id": "7d6e8b33",
   "metadata": {},
   "source": [
    "Depending on your pandas version, you might see an error like \"DtypeWarning: Columns (8) have mixed types\". This means that it's encountered a problem reading in our data. In this case it almost certainly means that it has columns where some of the entries are strings and some are integers.\n",
    "#### pd.read_csv('______________.csv',`dtype='unicode'`)"
   ]
  },
  {
   "cell_type": "code",
   "execution_count": 2,
   "id": "278e674b",
   "metadata": {},
   "outputs": [
    {
     "name": "stdout",
     "output_type": "stream",
     "text": [
      "<class 'pandas.core.frame.DataFrame'>\n",
      "RangeIndex: 111069 entries, 0 to 111068\n",
      "Data columns (total 52 columns):\n",
      " #   Column                          Non-Null Count   Dtype \n",
      "---  ------                          --------------   ----- \n",
      " 0   Unique Key                      111069 non-null  object\n",
      " 1   Created Date                    111069 non-null  object\n",
      " 2   Closed Date                     60270 non-null   object\n",
      " 3   Agency                          111069 non-null  object\n",
      " 4   Agency Name                     111069 non-null  object\n",
      " 5   Complaint Type                  111069 non-null  object\n",
      " 6   Descriptor                      110613 non-null  object\n",
      " 7   Location Type                   79022 non-null   object\n",
      " 8   Incident Zip                    98807 non-null   object\n",
      " 9   Incident Address                84441 non-null   object\n",
      " 10  Street Name                     84432 non-null   object\n",
      " 11  Cross Street 1                  84728 non-null   object\n",
      " 12  Cross Street 2                  84005 non-null   object\n",
      " 13  Intersection Street 1           19364 non-null   object\n",
      " 14  Intersection Street 2           19366 non-null   object\n",
      " 15  Address Type                    102247 non-null  object\n",
      " 16  City                            98854 non-null   object\n",
      " 17  Landmark                        95 non-null      object\n",
      " 18  Facility Type                   19104 non-null   object\n",
      " 19  Status                          111069 non-null  object\n",
      " 20  Due Date                        39239 non-null   object\n",
      " 21  Resolution Action Updated Date  96507 non-null   object\n",
      " 22  Community Board                 111069 non-null  object\n",
      " 23  Borough                         111069 non-null  object\n",
      " 24  X Coordinate (State Plane)      98143 non-null   object\n",
      " 25  Y Coordinate (State Plane)      98143 non-null   object\n",
      " 26  Park Facility Name              111069 non-null  object\n",
      " 27  Park Borough                    111069 non-null  object\n",
      " 28  School Name                     111069 non-null  object\n",
      " 29  School Number                   111048 non-null  object\n",
      " 30  School Region                   110524 non-null  object\n",
      " 31  School Code                     110524 non-null  object\n",
      " 32  School Phone Number             111069 non-null  object\n",
      " 33  School Address                  111069 non-null  object\n",
      " 34  School City                     111069 non-null  object\n",
      " 35  School State                    111069 non-null  object\n",
      " 36  School Zip                      111069 non-null  object\n",
      " 37  School Not Found                38984 non-null   object\n",
      " 38  School or Citywide Complaint    0 non-null       object\n",
      " 39  Vehicle Type                    99 non-null      object\n",
      " 40  Taxi Company Borough            117 non-null     object\n",
      " 41  Taxi Pick Up Location           1059 non-null    object\n",
      " 42  Bridge Highway Name             185 non-null     object\n",
      " 43  Bridge Highway Direction        185 non-null     object\n",
      " 44  Road Ramp                       180 non-null     object\n",
      " 45  Bridge Highway Segment          219 non-null     object\n",
      " 46  Garage Lot Name                 49 non-null      object\n",
      " 47  Ferry Direction                 24 non-null      object\n",
      " 48  Ferry Terminal Name             70 non-null      object\n",
      " 49  Latitude                        98143 non-null   object\n",
      " 50  Longitude                       98143 non-null   object\n",
      " 51  Location                        98143 non-null   object\n",
      "dtypes: object(52)\n",
      "memory usage: 44.1+ MB\n"
     ]
    }
   ],
   "source": [
    "complaints=pd.read_csv('311-service-requests.csv',dtype='unicode')\n",
    "complaints.info()"
   ]
  },
  {
   "cell_type": "code",
   "execution_count": null,
   "id": "02404d56",
   "metadata": {},
   "outputs": [],
   "source": []
  },
  {
   "cell_type": "markdown",
   "id": "0d51cdf9",
   "metadata": {},
   "source": [
    "### 2. What's even in it? (the summary)\n"
   ]
  },
  {
   "cell_type": "markdown",
   "id": "1085ab79",
   "metadata": {},
   "source": [
    "### The data is various complaints sent to local police departments. It gives the time, police station, type of complaint, and long/lat location"
   ]
  },
  {
   "cell_type": "code",
   "execution_count": 3,
   "id": "143afebf",
   "metadata": {},
   "outputs": [
    {
     "data": {
      "text/html": [
       "<div>\n",
       "<style scoped>\n",
       "    .dataframe tbody tr th:only-of-type {\n",
       "        vertical-align: middle;\n",
       "    }\n",
       "\n",
       "    .dataframe tbody tr th {\n",
       "        vertical-align: top;\n",
       "    }\n",
       "\n",
       "    .dataframe thead th {\n",
       "        text-align: right;\n",
       "    }\n",
       "</style>\n",
       "<table border=\"1\" class=\"dataframe\">\n",
       "  <thead>\n",
       "    <tr style=\"text-align: right;\">\n",
       "      <th></th>\n",
       "      <th>Unique Key</th>\n",
       "      <th>Created Date</th>\n",
       "      <th>Closed Date</th>\n",
       "      <th>Agency</th>\n",
       "      <th>Agency Name</th>\n",
       "      <th>Complaint Type</th>\n",
       "      <th>Descriptor</th>\n",
       "      <th>Location Type</th>\n",
       "      <th>Incident Zip</th>\n",
       "      <th>Incident Address</th>\n",
       "      <th>...</th>\n",
       "      <th>Bridge Highway Name</th>\n",
       "      <th>Bridge Highway Direction</th>\n",
       "      <th>Road Ramp</th>\n",
       "      <th>Bridge Highway Segment</th>\n",
       "      <th>Garage Lot Name</th>\n",
       "      <th>Ferry Direction</th>\n",
       "      <th>Ferry Terminal Name</th>\n",
       "      <th>Latitude</th>\n",
       "      <th>Longitude</th>\n",
       "      <th>Location</th>\n",
       "    </tr>\n",
       "  </thead>\n",
       "  <tbody>\n",
       "    <tr>\n",
       "      <th>0</th>\n",
       "      <td>26589651</td>\n",
       "      <td>10/31/2013 02:08:41 AM</td>\n",
       "      <td>NaN</td>\n",
       "      <td>NYPD</td>\n",
       "      <td>New York City Police Department</td>\n",
       "      <td>Noise - Street/Sidewalk</td>\n",
       "      <td>Loud Talking</td>\n",
       "      <td>Street/Sidewalk</td>\n",
       "      <td>11432</td>\n",
       "      <td>90-03 169 STREET</td>\n",
       "      <td>...</td>\n",
       "      <td>NaN</td>\n",
       "      <td>NaN</td>\n",
       "      <td>NaN</td>\n",
       "      <td>NaN</td>\n",
       "      <td>NaN</td>\n",
       "      <td>NaN</td>\n",
       "      <td>NaN</td>\n",
       "      <td>40.70827532593202</td>\n",
       "      <td>-73.79160395779721</td>\n",
       "      <td>(40.70827532593202, -73.79160395779721)</td>\n",
       "    </tr>\n",
       "    <tr>\n",
       "      <th>1</th>\n",
       "      <td>26593698</td>\n",
       "      <td>10/31/2013 02:01:04 AM</td>\n",
       "      <td>NaN</td>\n",
       "      <td>NYPD</td>\n",
       "      <td>New York City Police Department</td>\n",
       "      <td>Illegal Parking</td>\n",
       "      <td>Commercial Overnight Parking</td>\n",
       "      <td>Street/Sidewalk</td>\n",
       "      <td>11378</td>\n",
       "      <td>58 AVENUE</td>\n",
       "      <td>...</td>\n",
       "      <td>NaN</td>\n",
       "      <td>NaN</td>\n",
       "      <td>NaN</td>\n",
       "      <td>NaN</td>\n",
       "      <td>NaN</td>\n",
       "      <td>NaN</td>\n",
       "      <td>NaN</td>\n",
       "      <td>40.721040535628305</td>\n",
       "      <td>-73.90945306791765</td>\n",
       "      <td>(40.721040535628305, -73.90945306791765)</td>\n",
       "    </tr>\n",
       "    <tr>\n",
       "      <th>2</th>\n",
       "      <td>26594139</td>\n",
       "      <td>10/31/2013 02:00:24 AM</td>\n",
       "      <td>10/31/2013 02:40:32 AM</td>\n",
       "      <td>NYPD</td>\n",
       "      <td>New York City Police Department</td>\n",
       "      <td>Noise - Commercial</td>\n",
       "      <td>Loud Music/Party</td>\n",
       "      <td>Club/Bar/Restaurant</td>\n",
       "      <td>10032</td>\n",
       "      <td>4060 BROADWAY</td>\n",
       "      <td>...</td>\n",
       "      <td>NaN</td>\n",
       "      <td>NaN</td>\n",
       "      <td>NaN</td>\n",
       "      <td>NaN</td>\n",
       "      <td>NaN</td>\n",
       "      <td>NaN</td>\n",
       "      <td>NaN</td>\n",
       "      <td>40.84332975466513</td>\n",
       "      <td>-73.93914371913482</td>\n",
       "      <td>(40.84332975466513, -73.93914371913482)</td>\n",
       "    </tr>\n",
       "    <tr>\n",
       "      <th>3</th>\n",
       "      <td>26595721</td>\n",
       "      <td>10/31/2013 01:56:23 AM</td>\n",
       "      <td>10/31/2013 02:21:48 AM</td>\n",
       "      <td>NYPD</td>\n",
       "      <td>New York City Police Department</td>\n",
       "      <td>Noise - Vehicle</td>\n",
       "      <td>Car/Truck Horn</td>\n",
       "      <td>Street/Sidewalk</td>\n",
       "      <td>10023</td>\n",
       "      <td>WEST 72 STREET</td>\n",
       "      <td>...</td>\n",
       "      <td>NaN</td>\n",
       "      <td>NaN</td>\n",
       "      <td>NaN</td>\n",
       "      <td>NaN</td>\n",
       "      <td>NaN</td>\n",
       "      <td>NaN</td>\n",
       "      <td>NaN</td>\n",
       "      <td>40.7780087446372</td>\n",
       "      <td>-73.98021349023975</td>\n",
       "      <td>(40.7780087446372, -73.98021349023975)</td>\n",
       "    </tr>\n",
       "    <tr>\n",
       "      <th>4</th>\n",
       "      <td>26590930</td>\n",
       "      <td>10/31/2013 01:53:44 AM</td>\n",
       "      <td>NaN</td>\n",
       "      <td>DOHMH</td>\n",
       "      <td>Department of Health and Mental Hygiene</td>\n",
       "      <td>Rodent</td>\n",
       "      <td>Condition Attracting Rodents</td>\n",
       "      <td>Vacant Lot</td>\n",
       "      <td>10027</td>\n",
       "      <td>WEST 124 STREET</td>\n",
       "      <td>...</td>\n",
       "      <td>NaN</td>\n",
       "      <td>NaN</td>\n",
       "      <td>NaN</td>\n",
       "      <td>NaN</td>\n",
       "      <td>NaN</td>\n",
       "      <td>NaN</td>\n",
       "      <td>NaN</td>\n",
       "      <td>40.80769092704951</td>\n",
       "      <td>-73.94738703491433</td>\n",
       "      <td>(40.80769092704951, -73.94738703491433)</td>\n",
       "    </tr>\n",
       "  </tbody>\n",
       "</table>\n",
       "<p>5 rows × 52 columns</p>\n",
       "</div>"
      ],
      "text/plain": [
       "  Unique Key            Created Date             Closed Date Agency  \\\n",
       "0   26589651  10/31/2013 02:08:41 AM                     NaN   NYPD   \n",
       "1   26593698  10/31/2013 02:01:04 AM                     NaN   NYPD   \n",
       "2   26594139  10/31/2013 02:00:24 AM  10/31/2013 02:40:32 AM   NYPD   \n",
       "3   26595721  10/31/2013 01:56:23 AM  10/31/2013 02:21:48 AM   NYPD   \n",
       "4   26590930  10/31/2013 01:53:44 AM                     NaN  DOHMH   \n",
       "\n",
       "                               Agency Name           Complaint Type  \\\n",
       "0          New York City Police Department  Noise - Street/Sidewalk   \n",
       "1          New York City Police Department          Illegal Parking   \n",
       "2          New York City Police Department       Noise - Commercial   \n",
       "3          New York City Police Department          Noise - Vehicle   \n",
       "4  Department of Health and Mental Hygiene                   Rodent   \n",
       "\n",
       "                     Descriptor        Location Type Incident Zip  \\\n",
       "0                  Loud Talking      Street/Sidewalk        11432   \n",
       "1  Commercial Overnight Parking      Street/Sidewalk        11378   \n",
       "2              Loud Music/Party  Club/Bar/Restaurant        10032   \n",
       "3                Car/Truck Horn      Street/Sidewalk        10023   \n",
       "4  Condition Attracting Rodents           Vacant Lot        10027   \n",
       "\n",
       "   Incident Address  ... Bridge Highway Name Bridge Highway Direction  \\\n",
       "0  90-03 169 STREET  ...                 NaN                      NaN   \n",
       "1         58 AVENUE  ...                 NaN                      NaN   \n",
       "2     4060 BROADWAY  ...                 NaN                      NaN   \n",
       "3    WEST 72 STREET  ...                 NaN                      NaN   \n",
       "4   WEST 124 STREET  ...                 NaN                      NaN   \n",
       "\n",
       "  Road Ramp Bridge Highway Segment Garage Lot Name Ferry Direction  \\\n",
       "0       NaN                    NaN             NaN             NaN   \n",
       "1       NaN                    NaN             NaN             NaN   \n",
       "2       NaN                    NaN             NaN             NaN   \n",
       "3       NaN                    NaN             NaN             NaN   \n",
       "4       NaN                    NaN             NaN             NaN   \n",
       "\n",
       "  Ferry Terminal Name            Latitude           Longitude  \\\n",
       "0                 NaN   40.70827532593202  -73.79160395779721   \n",
       "1                 NaN  40.721040535628305  -73.90945306791765   \n",
       "2                 NaN   40.84332975466513  -73.93914371913482   \n",
       "3                 NaN    40.7780087446372  -73.98021349023975   \n",
       "4                 NaN   40.80769092704951  -73.94738703491433   \n",
       "\n",
       "                                   Location  \n",
       "0   (40.70827532593202, -73.79160395779721)  \n",
       "1  (40.721040535628305, -73.90945306791765)  \n",
       "2   (40.84332975466513, -73.93914371913482)  \n",
       "3    (40.7780087446372, -73.98021349023975)  \n",
       "4   (40.80769092704951, -73.94738703491433)  \n",
       "\n",
       "[5 rows x 52 columns]"
      ]
     },
     "execution_count": 3,
     "metadata": {},
     "output_type": "execute_result"
    }
   ],
   "source": [
    "complaints.head()"
   ]
  },
  {
   "cell_type": "code",
   "execution_count": 4,
   "id": "5eeae17f",
   "metadata": {},
   "outputs": [
    {
     "data": {
      "text/plain": [
       "Index(['Unique Key', 'Created Date', 'Closed Date', 'Agency', 'Agency Name',\n",
       "       'Complaint Type', 'Descriptor', 'Location Type', 'Incident Zip',\n",
       "       'Incident Address', 'Street Name', 'Cross Street 1', 'Cross Street 2',\n",
       "       'Intersection Street 1', 'Intersection Street 2', 'Address Type',\n",
       "       'City', 'Landmark', 'Facility Type', 'Status', 'Due Date',\n",
       "       'Resolution Action Updated Date', 'Community Board', 'Borough',\n",
       "       'X Coordinate (State Plane)', 'Y Coordinate (State Plane)',\n",
       "       'Park Facility Name', 'Park Borough', 'School Name', 'School Number',\n",
       "       'School Region', 'School Code', 'School Phone Number', 'School Address',\n",
       "       'School City', 'School State', 'School Zip', 'School Not Found',\n",
       "       'School or Citywide Complaint', 'Vehicle Type', 'Taxi Company Borough',\n",
       "       'Taxi Pick Up Location', 'Bridge Highway Name',\n",
       "       'Bridge Highway Direction', 'Road Ramp', 'Bridge Highway Segment',\n",
       "       'Garage Lot Name', 'Ferry Direction', 'Ferry Terminal Name', 'Latitude',\n",
       "       'Longitude', 'Location'],\n",
       "      dtype='object')"
      ]
     },
     "execution_count": 4,
     "metadata": {},
     "output_type": "execute_result"
    }
   ],
   "source": [
    "complaints.columns"
   ]
  },
  {
   "cell_type": "code",
   "execution_count": 5,
   "id": "9c2de8f7",
   "metadata": {},
   "outputs": [
    {
     "data": {
      "text/plain": [
       "<bound method NDFrame.sample of        Unique Key            Created Date             Closed Date Agency  \\\n",
       "0        26589651  10/31/2013 02:08:41 AM                     NaN   NYPD   \n",
       "1        26593698  10/31/2013 02:01:04 AM                     NaN   NYPD   \n",
       "2        26594139  10/31/2013 02:00:24 AM  10/31/2013 02:40:32 AM   NYPD   \n",
       "3        26595721  10/31/2013 01:56:23 AM  10/31/2013 02:21:48 AM   NYPD   \n",
       "4        26590930  10/31/2013 01:53:44 AM                     NaN  DOHMH   \n",
       "...           ...                     ...                     ...    ...   \n",
       "111064   26426013  10/04/2013 12:01:13 AM  10/07/2013 04:07:16 PM    DPR   \n",
       "111065   26428083  10/04/2013 12:01:05 AM  10/04/2013 02:13:50 AM   NYPD   \n",
       "111066   26428987  10/04/2013 12:00:45 AM  10/04/2013 01:25:01 AM   NYPD   \n",
       "111067   26426115  10/04/2013 12:00:28 AM  10/04/2013 04:17:32 AM   NYPD   \n",
       "111068   26428033  10/04/2013 12:00:10 AM  10/04/2013 01:20:52 AM   NYPD   \n",
       "\n",
       "                                    Agency Name           Complaint Type  \\\n",
       "0               New York City Police Department  Noise - Street/Sidewalk   \n",
       "1               New York City Police Department          Illegal Parking   \n",
       "2               New York City Police Department       Noise - Commercial   \n",
       "3               New York City Police Department          Noise - Vehicle   \n",
       "4       Department of Health and Mental Hygiene                   Rodent   \n",
       "...                                         ...                      ...   \n",
       "111064       Department of Parks and Recreation  Maintenance or Facility   \n",
       "111065          New York City Police Department          Illegal Parking   \n",
       "111066          New York City Police Department  Noise - Street/Sidewalk   \n",
       "111067          New York City Police Department       Noise - Commercial   \n",
       "111068          New York City Police Department         Blocked Driveway   \n",
       "\n",
       "                           Descriptor        Location Type Incident Zip  \\\n",
       "0                        Loud Talking      Street/Sidewalk        11432   \n",
       "1        Commercial Overnight Parking      Street/Sidewalk        11378   \n",
       "2                    Loud Music/Party  Club/Bar/Restaurant        10032   \n",
       "3                      Car/Truck Horn      Street/Sidewalk        10023   \n",
       "4        Condition Attracting Rodents           Vacant Lot        10027   \n",
       "...                               ...                  ...          ...   \n",
       "111064           Structure - Outdoors                 Park        11213   \n",
       "111065  Posted Parking Sign Violation      Street/Sidewalk        11434   \n",
       "111066                   Loud Talking      Street/Sidewalk        10016   \n",
       "111067                   Loud Talking  Club/Bar/Restaurant        11226   \n",
       "111068                 Partial Access      Street/Sidewalk        11236   \n",
       "\n",
       "            Incident Address  ... Bridge Highway Name  \\\n",
       "0           90-03 169 STREET  ...                 NaN   \n",
       "1                  58 AVENUE  ...                 NaN   \n",
       "2              4060 BROADWAY  ...                 NaN   \n",
       "3             WEST 72 STREET  ...                 NaN   \n",
       "4            WEST 124 STREET  ...                 NaN   \n",
       "...                      ...  ...                 ...   \n",
       "111064                   NaN  ...                 NaN   \n",
       "111065                   NaN  ...                 NaN   \n",
       "111066    344 EAST 28 STREET  ...                 NaN   \n",
       "111067  1233 FLATBUSH AVENUE  ...                 NaN   \n",
       "111068   1259 EAST 94 STREET  ...                 NaN   \n",
       "\n",
       "       Bridge Highway Direction Road Ramp Bridge Highway Segment  \\\n",
       "0                           NaN       NaN                    NaN   \n",
       "1                           NaN       NaN                    NaN   \n",
       "2                           NaN       NaN                    NaN   \n",
       "3                           NaN       NaN                    NaN   \n",
       "4                           NaN       NaN                    NaN   \n",
       "...                         ...       ...                    ...   \n",
       "111064                      NaN       NaN                    NaN   \n",
       "111065                      NaN       NaN                    NaN   \n",
       "111066                      NaN       NaN                    NaN   \n",
       "111067                      NaN       NaN                    NaN   \n",
       "111068                      NaN       NaN                    NaN   \n",
       "\n",
       "       Garage Lot Name Ferry Direction Ferry Terminal Name  \\\n",
       "0                  NaN             NaN                 NaN   \n",
       "1                  NaN             NaN                 NaN   \n",
       "2                  NaN             NaN                 NaN   \n",
       "3                  NaN             NaN                 NaN   \n",
       "4                  NaN             NaN                 NaN   \n",
       "...                ...             ...                 ...   \n",
       "111064             NaN             NaN                 NaN   \n",
       "111065             NaN             NaN                 NaN   \n",
       "111066             NaN             NaN                 NaN   \n",
       "111067             NaN             NaN                 NaN   \n",
       "111068             NaN             NaN                 NaN   \n",
       "\n",
       "                  Latitude           Longitude  \\\n",
       "0        40.70827532593202  -73.79160395779721   \n",
       "1       40.721040535628305  -73.90945306791765   \n",
       "2        40.84332975466513  -73.93914371913482   \n",
       "3         40.7780087446372  -73.98021349023975   \n",
       "4        40.80769092704951  -73.94738703491433   \n",
       "...                    ...                 ...   \n",
       "111064                 NaN                 NaN   \n",
       "111065  40.656160351546845  -73.76735262738222   \n",
       "111066  40.740295354643706  -73.97695165980414   \n",
       "111067   40.64018174662485  -73.95530566958138   \n",
       "111068  40.640024057399216  -73.90071711703163   \n",
       "\n",
       "                                        Location  \n",
       "0        (40.70827532593202, -73.79160395779721)  \n",
       "1       (40.721040535628305, -73.90945306791765)  \n",
       "2        (40.84332975466513, -73.93914371913482)  \n",
       "3         (40.7780087446372, -73.98021349023975)  \n",
       "4        (40.80769092704951, -73.94738703491433)  \n",
       "...                                          ...  \n",
       "111064                                       NaN  \n",
       "111065  (40.656160351546845, -73.76735262738222)  \n",
       "111066  (40.740295354643706, -73.97695165980414)  \n",
       "111067   (40.64018174662485, -73.95530566958138)  \n",
       "111068  (40.640024057399216, -73.90071711703163)  \n",
       "\n",
       "[111069 rows x 52 columns]>"
      ]
     },
     "execution_count": 5,
     "metadata": {},
     "output_type": "execute_result"
    }
   ],
   "source": [
    "complaints.sample"
   ]
  },
  {
   "cell_type": "code",
   "execution_count": 6,
   "id": "f5baa403",
   "metadata": {},
   "outputs": [
    {
     "data": {
      "text/html": [
       "<div>\n",
       "<style scoped>\n",
       "    .dataframe tbody tr th:only-of-type {\n",
       "        vertical-align: middle;\n",
       "    }\n",
       "\n",
       "    .dataframe tbody tr th {\n",
       "        vertical-align: top;\n",
       "    }\n",
       "\n",
       "    .dataframe thead th {\n",
       "        text-align: right;\n",
       "    }\n",
       "</style>\n",
       "<table border=\"1\" class=\"dataframe\">\n",
       "  <thead>\n",
       "    <tr style=\"text-align: right;\">\n",
       "      <th></th>\n",
       "      <th>Unique Key</th>\n",
       "      <th>Created Date</th>\n",
       "      <th>Closed Date</th>\n",
       "      <th>Agency</th>\n",
       "      <th>Agency Name</th>\n",
       "      <th>Complaint Type</th>\n",
       "      <th>Descriptor</th>\n",
       "      <th>Location Type</th>\n",
       "      <th>Incident Zip</th>\n",
       "      <th>Incident Address</th>\n",
       "      <th>...</th>\n",
       "      <th>Bridge Highway Name</th>\n",
       "      <th>Bridge Highway Direction</th>\n",
       "      <th>Road Ramp</th>\n",
       "      <th>Bridge Highway Segment</th>\n",
       "      <th>Garage Lot Name</th>\n",
       "      <th>Ferry Direction</th>\n",
       "      <th>Ferry Terminal Name</th>\n",
       "      <th>Latitude</th>\n",
       "      <th>Longitude</th>\n",
       "      <th>Location</th>\n",
       "    </tr>\n",
       "  </thead>\n",
       "  <tbody>\n",
       "    <tr>\n",
       "      <th>count</th>\n",
       "      <td>111069</td>\n",
       "      <td>111069</td>\n",
       "      <td>60270</td>\n",
       "      <td>111069</td>\n",
       "      <td>111069</td>\n",
       "      <td>111069</td>\n",
       "      <td>110613</td>\n",
       "      <td>79022</td>\n",
       "      <td>98807</td>\n",
       "      <td>84441</td>\n",
       "      <td>...</td>\n",
       "      <td>185</td>\n",
       "      <td>185</td>\n",
       "      <td>180</td>\n",
       "      <td>219</td>\n",
       "      <td>49</td>\n",
       "      <td>24</td>\n",
       "      <td>70</td>\n",
       "      <td>98143</td>\n",
       "      <td>98143</td>\n",
       "      <td>98143</td>\n",
       "    </tr>\n",
       "    <tr>\n",
       "      <th>unique</th>\n",
       "      <td>111069</td>\n",
       "      <td>57872</td>\n",
       "      <td>35596</td>\n",
       "      <td>26</td>\n",
       "      <td>135</td>\n",
       "      <td>165</td>\n",
       "      <td>788</td>\n",
       "      <td>90</td>\n",
       "      <td>248</td>\n",
       "      <td>41189</td>\n",
       "      <td>...</td>\n",
       "      <td>37</td>\n",
       "      <td>38</td>\n",
       "      <td>2</td>\n",
       "      <td>160</td>\n",
       "      <td>17</td>\n",
       "      <td>2</td>\n",
       "      <td>39</td>\n",
       "      <td>50653</td>\n",
       "      <td>50505</td>\n",
       "      <td>50653</td>\n",
       "    </tr>\n",
       "    <tr>\n",
       "      <th>top</th>\n",
       "      <td>26589651</td>\n",
       "      <td>10/24/2013 12:00:00 AM</td>\n",
       "      <td>10/28/2013 12:00:00 AM</td>\n",
       "      <td>HPD</td>\n",
       "      <td>Department of Housing Preservation and Develop...</td>\n",
       "      <td>HEATING</td>\n",
       "      <td>HEAT</td>\n",
       "      <td>RESIDENTIAL BUILDING</td>\n",
       "      <td>11226</td>\n",
       "      <td>130 AUDUBON AVENUE</td>\n",
       "      <td>...</td>\n",
       "      <td>BQE/Gowanus Expwy</td>\n",
       "      <td>East/Long Island Bound</td>\n",
       "      <td>Roadway</td>\n",
       "      <td>Roadway</td>\n",
       "      <td>Flushing #1 Field</td>\n",
       "      <td>Staten Island Bound</td>\n",
       "      <td>Unknown</td>\n",
       "      <td>40.842708163812766</td>\n",
       "      <td>-73.93675169432969</td>\n",
       "      <td>(40.842708163812766, -73.93675169432969)</td>\n",
       "    </tr>\n",
       "    <tr>\n",
       "      <th>freq</th>\n",
       "      <td>1</td>\n",
       "      <td>3659</td>\n",
       "      <td>1359</td>\n",
       "      <td>39067</td>\n",
       "      <td>39067</td>\n",
       "      <td>14200</td>\n",
       "      <td>14126</td>\n",
       "      <td>39067</td>\n",
       "      <td>1996</td>\n",
       "      <td>120</td>\n",
       "      <td>...</td>\n",
       "      <td>24</td>\n",
       "      <td>22</td>\n",
       "      <td>127</td>\n",
       "      <td>11</td>\n",
       "      <td>12</td>\n",
       "      <td>13</td>\n",
       "      <td>14</td>\n",
       "      <td>120</td>\n",
       "      <td>120</td>\n",
       "      <td>120</td>\n",
       "    </tr>\n",
       "  </tbody>\n",
       "</table>\n",
       "<p>4 rows × 52 columns</p>\n",
       "</div>"
      ],
      "text/plain": [
       "       Unique Key            Created Date             Closed Date  Agency  \\\n",
       "count      111069                  111069                   60270  111069   \n",
       "unique     111069                   57872                   35596      26   \n",
       "top      26589651  10/24/2013 12:00:00 AM  10/28/2013 12:00:00 AM     HPD   \n",
       "freq            1                    3659                    1359   39067   \n",
       "\n",
       "                                              Agency Name Complaint Type  \\\n",
       "count                                              111069         111069   \n",
       "unique                                                135            165   \n",
       "top     Department of Housing Preservation and Develop...        HEATING   \n",
       "freq                                                39067          14200   \n",
       "\n",
       "       Descriptor         Location Type Incident Zip    Incident Address  ...  \\\n",
       "count      110613                 79022        98807               84441  ...   \n",
       "unique        788                    90          248               41189  ...   \n",
       "top          HEAT  RESIDENTIAL BUILDING        11226  130 AUDUBON AVENUE  ...   \n",
       "freq        14126                 39067         1996                 120  ...   \n",
       "\n",
       "       Bridge Highway Name Bridge Highway Direction Road Ramp  \\\n",
       "count                  185                      185       180   \n",
       "unique                  37                       38         2   \n",
       "top      BQE/Gowanus Expwy   East/Long Island Bound   Roadway   \n",
       "freq                    24                       22       127   \n",
       "\n",
       "       Bridge Highway Segment    Garage Lot Name      Ferry Direction  \\\n",
       "count                     219                 49                   24   \n",
       "unique                    160                 17                    2   \n",
       "top                   Roadway  Flushing #1 Field  Staten Island Bound   \n",
       "freq                       11                 12                   13   \n",
       "\n",
       "       Ferry Terminal Name            Latitude           Longitude  \\\n",
       "count                   70               98143               98143   \n",
       "unique                  39               50653               50505   \n",
       "top                Unknown  40.842708163812766  -73.93675169432969   \n",
       "freq                    14                 120                 120   \n",
       "\n",
       "                                        Location  \n",
       "count                                      98143  \n",
       "unique                                     50653  \n",
       "top     (40.842708163812766, -73.93675169432969)  \n",
       "freq                                         120  \n",
       "\n",
       "[4 rows x 52 columns]"
      ]
     },
     "execution_count": 6,
     "metadata": {},
     "output_type": "execute_result"
    }
   ],
   "source": [
    "complaints.describe()"
   ]
  },
  {
   "cell_type": "markdown",
   "id": "6a327e7b",
   "metadata": {},
   "source": [
    "### spaces in column names are replaced with ‘_’\n",
    "complaints.columns =[column.replace(\" \", \"_\") \n",
    "                     for column in complaints.columns]"
   ]
  },
  {
   "cell_type": "code",
   "execution_count": 7,
   "id": "fa1bac92",
   "metadata": {},
   "outputs": [],
   "source": [
    "complaints.columns =[column.replace(\" \", \"_\") for column in complaints.columns]"
   ]
  },
  {
   "cell_type": "code",
   "execution_count": null,
   "id": "ab72c888",
   "metadata": {},
   "outputs": [],
   "source": []
  },
  {
   "cell_type": "markdown",
   "id": "11b85e04",
   "metadata": {},
   "source": [
    "### 3. Which month and year the complains received?\n"
   ]
  },
  {
   "cell_type": "code",
   "execution_count": 8,
   "id": "9d422479",
   "metadata": {},
   "outputs": [],
   "source": [
    "complaints['Created_Date']=pd.to_datetime(complaints['Created_Date'])"
   ]
  },
  {
   "cell_type": "code",
   "execution_count": 9,
   "id": "33109a22",
   "metadata": {},
   "outputs": [],
   "source": [
    "complaints['month']=complaints['Created_Date'].dt.month"
   ]
  },
  {
   "cell_type": "code",
   "execution_count": 10,
   "id": "86a86100",
   "metadata": {},
   "outputs": [
    {
     "data": {
      "text/plain": [
       "month\n",
       "10    111069\n",
       "dtype: int64"
      ]
     },
     "execution_count": 10,
     "metadata": {},
     "output_type": "execute_result"
    }
   ],
   "source": [
    "complaints.value_counts('month')"
   ]
  },
  {
   "cell_type": "code",
   "execution_count": 11,
   "id": "98244937",
   "metadata": {},
   "outputs": [],
   "source": [
    "complaints['year']=complaints['Created_Date'].dt.year"
   ]
  },
  {
   "cell_type": "code",
   "execution_count": 12,
   "id": "aa1eedab",
   "metadata": {},
   "outputs": [
    {
     "data": {
      "text/plain": [
       "year\n",
       "2013    111069\n",
       "dtype: int64"
      ]
     },
     "execution_count": 12,
     "metadata": {},
     "output_type": "execute_result"
    }
   ],
   "source": [
    "complaints.value_counts('year')"
   ]
  },
  {
   "cell_type": "markdown",
   "id": "0d4bb0e1",
   "metadata": {},
   "source": [
    "### All complaints are from October 2013"
   ]
  },
  {
   "cell_type": "markdown",
   "id": "09eb4d20",
   "metadata": {},
   "source": [
    "### 4. Drop the columns which you are not going to use for any analysis/ not bringing any meaningful informations/ most of the entries are null (Find out 5 and explain why you selected that)"
   ]
  },
  {
   "cell_type": "code",
   "execution_count": 13,
   "id": "7359efe5",
   "metadata": {},
   "outputs": [
    {
     "data": {
      "text/plain": [
       "Index(['Unique_Key', 'Created_Date', 'Closed_Date', 'Agency', 'Agency_Name',\n",
       "       'Complaint_Type', 'Descriptor', 'Location_Type', 'Incident_Zip',\n",
       "       'Incident_Address', 'Street_Name', 'Cross_Street_1', 'Cross_Street_2',\n",
       "       'Intersection_Street_1', 'Intersection_Street_2', 'Address_Type',\n",
       "       'City', 'Landmark', 'Facility_Type', 'Status', 'Due_Date',\n",
       "       'Resolution_Action_Updated_Date', 'Community_Board', 'Borough',\n",
       "       'X_Coordinate_(State_Plane)', 'Y_Coordinate_(State_Plane)',\n",
       "       'Park_Facility_Name', 'Park_Borough', 'School_Name', 'School_Number',\n",
       "       'School_Region', 'School_Code', 'School_Phone_Number', 'School_Address',\n",
       "       'School_City', 'School_State', 'School_Zip', 'School_Not_Found',\n",
       "       'School_or_Citywide_Complaint', 'Vehicle_Type', 'Taxi_Company_Borough',\n",
       "       'Taxi_Pick_Up_Location', 'Bridge_Highway_Name',\n",
       "       'Bridge_Highway_Direction', 'Road_Ramp', 'Bridge_Highway_Segment',\n",
       "       'Garage_Lot_Name', 'Ferry_Direction', 'Ferry_Terminal_Name', 'Latitude',\n",
       "       'Longitude', 'Location', 'month', 'year'],\n",
       "      dtype='object')"
      ]
     },
     "execution_count": 13,
     "metadata": {},
     "output_type": "execute_result"
    }
   ],
   "source": [
    "complaints.columns"
   ]
  },
  {
   "cell_type": "code",
   "execution_count": 14,
   "id": "e34f714b",
   "metadata": {},
   "outputs": [],
   "source": [
    "complaints.drop(['Bridge_Highway_Direction', 'Road_Ramp', 'Bridge_Highway_Segment','Garage_Lot_Name','Ferry_Direction','Ferry_Terminal_Name'], axis=1, inplace=True)"
   ]
  },
  {
   "cell_type": "code",
   "execution_count": 15,
   "id": "a312c6b5",
   "metadata": {},
   "outputs": [
    {
     "data": {
      "text/plain": [
       "Index(['Unique_Key', 'Created_Date', 'Closed_Date', 'Agency', 'Agency_Name',\n",
       "       'Complaint_Type', 'Descriptor', 'Location_Type', 'Incident_Zip',\n",
       "       'Incident_Address', 'Street_Name', 'Cross_Street_1', 'Cross_Street_2',\n",
       "       'Intersection_Street_1', 'Intersection_Street_2', 'Address_Type',\n",
       "       'City', 'Landmark', 'Facility_Type', 'Status', 'Due_Date',\n",
       "       'Resolution_Action_Updated_Date', 'Community_Board', 'Borough',\n",
       "       'X_Coordinate_(State_Plane)', 'Y_Coordinate_(State_Plane)',\n",
       "       'Park_Facility_Name', 'Park_Borough', 'School_Name', 'School_Number',\n",
       "       'School_Region', 'School_Code', 'School_Phone_Number', 'School_Address',\n",
       "       'School_City', 'School_State', 'School_Zip', 'School_Not_Found',\n",
       "       'School_or_Citywide_Complaint', 'Vehicle_Type', 'Taxi_Company_Borough',\n",
       "       'Taxi_Pick_Up_Location', 'Bridge_Highway_Name', 'Latitude', 'Longitude',\n",
       "       'Location', 'month', 'year'],\n",
       "      dtype='object')"
      ]
     },
     "execution_count": 15,
     "metadata": {},
     "output_type": "execute_result"
    }
   ],
   "source": [
    "complaints.columns"
   ]
  },
  {
   "cell_type": "markdown",
   "id": "3c462eb9",
   "metadata": {},
   "source": [
    "### We removed the following columns because their rows were filled with \"NA\""
   ]
  },
  {
   "cell_type": "markdown",
   "id": "8f03c7ac",
   "metadata": {},
   "source": [
    "## 5. Is there any missing value in the dataset? Display the list.\n",
    "Impute the missing values in Street_Name, Address_Type, and City "
   ]
  },
  {
   "cell_type": "code",
   "execution_count": 16,
   "id": "793dcae5",
   "metadata": {},
   "outputs": [
    {
     "data": {
      "text/plain": [
       "Unique_Key                             0\n",
       "Created_Date                           0\n",
       "Closed_Date                        50799\n",
       "Agency                                 0\n",
       "Agency_Name                            0\n",
       "Complaint_Type                         0\n",
       "Descriptor                           456\n",
       "Location_Type                      32047\n",
       "Incident_Zip                       12262\n",
       "Incident_Address                   26628\n",
       "Street_Name                        26637\n",
       "Cross_Street_1                     26341\n",
       "Cross_Street_2                     27064\n",
       "Intersection_Street_1              91705\n",
       "Intersection_Street_2              91703\n",
       "Address_Type                        8822\n",
       "City                               12215\n",
       "Landmark                          110974\n",
       "Facility_Type                      91965\n",
       "Status                                 0\n",
       "Due_Date                           71830\n",
       "Resolution_Action_Updated_Date     14562\n",
       "Community_Board                        0\n",
       "Borough                                0\n",
       "X_Coordinate_(State_Plane)         12926\n",
       "Y_Coordinate_(State_Plane)         12926\n",
       "Park_Facility_Name                     0\n",
       "Park_Borough                           0\n",
       "School_Name                            0\n",
       "School_Number                         21\n",
       "School_Region                        545\n",
       "School_Code                          545\n",
       "School_Phone_Number                    0\n",
       "School_Address                         0\n",
       "School_City                            0\n",
       "School_State                           0\n",
       "School_Zip                             0\n",
       "School_Not_Found                   72085\n",
       "School_or_Citywide_Complaint      111069\n",
       "Vehicle_Type                      110970\n",
       "Taxi_Company_Borough              110952\n",
       "Taxi_Pick_Up_Location             110010\n",
       "Bridge_Highway_Name               110884\n",
       "Latitude                           12926\n",
       "Longitude                          12926\n",
       "Location                           12926\n",
       "month                                  0\n",
       "year                                   0\n",
       "dtype: int64"
      ]
     },
     "execution_count": 16,
     "metadata": {},
     "output_type": "execute_result"
    }
   ],
   "source": [
    "complaints.isnull().sum()"
   ]
  },
  {
   "cell_type": "markdown",
   "id": "ce94774f",
   "metadata": {},
   "source": [
    "### I would recomend using a constant for all three of these (We don't want to assume anything). However, I will use mode on Address_Type for practice"
   ]
  },
  {
   "cell_type": "code",
   "execution_count": 17,
   "id": "b585f185",
   "metadata": {},
   "outputs": [],
   "source": [
    "complaints['Street_Name'].fillna('Unknown', inplace=True)"
   ]
  },
  {
   "cell_type": "code",
   "execution_count": 18,
   "id": "cc305b9d",
   "metadata": {},
   "outputs": [
    {
     "name": "stdout",
     "output_type": "stream",
     "text": [
      "ADDRESS\n"
     ]
    }
   ],
   "source": [
    "AT_mode=complaints['Address_Type'].mode()[0]\n",
    "print(AT_mode)"
   ]
  },
  {
   "cell_type": "code",
   "execution_count": 19,
   "id": "396a17f2",
   "metadata": {},
   "outputs": [],
   "source": [
    "complaints['Address_Type'].fillna(AT_mode, inplace=True)"
   ]
  },
  {
   "cell_type": "code",
   "execution_count": 20,
   "id": "5b96ac82",
   "metadata": {},
   "outputs": [],
   "source": [
    "complaints['City'].fillna('Unknown', inplace=True)"
   ]
  },
  {
   "cell_type": "code",
   "execution_count": 21,
   "id": "5d046f4c",
   "metadata": {},
   "outputs": [
    {
     "data": {
      "text/plain": [
       "Unique_Key                             0\n",
       "Created_Date                           0\n",
       "Closed_Date                        50799\n",
       "Agency                                 0\n",
       "Agency_Name                            0\n",
       "Complaint_Type                         0\n",
       "Descriptor                           456\n",
       "Location_Type                      32047\n",
       "Incident_Zip                       12262\n",
       "Incident_Address                   26628\n",
       "Street_Name                            0\n",
       "Cross_Street_1                     26341\n",
       "Cross_Street_2                     27064\n",
       "Intersection_Street_1              91705\n",
       "Intersection_Street_2              91703\n",
       "Address_Type                           0\n",
       "City                                   0\n",
       "Landmark                          110974\n",
       "Facility_Type                      91965\n",
       "Status                                 0\n",
       "Due_Date                           71830\n",
       "Resolution_Action_Updated_Date     14562\n",
       "Community_Board                        0\n",
       "Borough                                0\n",
       "X_Coordinate_(State_Plane)         12926\n",
       "Y_Coordinate_(State_Plane)         12926\n",
       "Park_Facility_Name                     0\n",
       "Park_Borough                           0\n",
       "School_Name                            0\n",
       "School_Number                         21\n",
       "School_Region                        545\n",
       "School_Code                          545\n",
       "School_Phone_Number                    0\n",
       "School_Address                         0\n",
       "School_City                            0\n",
       "School_State                           0\n",
       "School_Zip                             0\n",
       "School_Not_Found                   72085\n",
       "School_or_Citywide_Complaint      111069\n",
       "Vehicle_Type                      110970\n",
       "Taxi_Company_Borough              110952\n",
       "Taxi_Pick_Up_Location             110010\n",
       "Bridge_Highway_Name               110884\n",
       "Latitude                           12926\n",
       "Longitude                          12926\n",
       "Location                           12926\n",
       "month                                  0\n",
       "year                                   0\n",
       "dtype: int64"
      ]
     },
     "execution_count": 21,
     "metadata": {},
     "output_type": "execute_result"
    }
   ],
   "source": [
    "complaints.isnull().sum()"
   ]
  },
  {
   "cell_type": "markdown",
   "id": "0761e656",
   "metadata": {},
   "source": [
    "### City, Address Type, and Street Name now have 0 null's"
   ]
  },
  {
   "cell_type": "markdown",
   "id": "8788539e",
   "metadata": {},
   "source": [
    "### 6. What are the top 5 `complains` received? Show the result graphically using bar plot."
   ]
  },
  {
   "cell_type": "markdown",
   "id": "0b4387bf",
   "metadata": {},
   "source": [
    "### Heating, Construction, Light Condotion, Lit Request, and Plumbing the most common complaints"
   ]
  },
  {
   "cell_type": "code",
   "execution_count": 22,
   "id": "a62f5656",
   "metadata": {},
   "outputs": [
    {
     "data": {
      "text/plain": [
       "<AxesSubplot:>"
      ]
     },
     "execution_count": 22,
     "metadata": {},
     "output_type": "execute_result"
    },
    {
     "data": {
      "image/png": "[encoded data removed]",
      "text/plain": [
       "<Figure size 640x480 with 1 Axes>"
      ]
     },
     "metadata": {},
     "output_type": "display_data"
    }
   ],
   "source": [
    "complaints['Complaint_Type'].value_counts().head(5).plot(kind=\"bar\")"
   ]
  },
  {
   "cell_type": "code",
   "execution_count": null,
   "id": "8d0fdd32",
   "metadata": {},
   "outputs": [],
   "source": []
  },
  {
   "cell_type": "markdown",
   "id": "890fbcc6",
   "metadata": {},
   "source": [
    "### 7. What's the most common `Borough` the complain came? Display top 5 most and plot them out"
   ]
  },
  {
   "cell_type": "markdown",
   "id": "aed8e168",
   "metadata": {},
   "source": [
    "### The Boroughs with the most complaints are Brooklyn, Manhattan, Queens, and Bronx"
   ]
  },
  {
   "cell_type": "code",
   "execution_count": 23,
   "id": "76006b20",
   "metadata": {},
   "outputs": [
    {
     "data": {
      "text/plain": [
       "<AxesSubplot:>"
      ]
     },
     "execution_count": 23,
     "metadata": {},
     "output_type": "execute_result"
    },
    {
     "data": {
      "image/png": "[encoded data removed]",
      "text/plain": [
       "<Figure size 640x480 with 1 Axes>"
      ]
     },
     "metadata": {},
     "output_type": "display_data"
    }
   ],
   "source": [
    "complaints['Borough'].value_counts().head(5).plot(kind=\"bar\")"
   ]
  },
  {
   "cell_type": "markdown",
   "id": "b720399e",
   "metadata": {},
   "source": [
    "### 8. Which agency received the most complain and which one least?"
   ]
  },
  {
   "cell_type": "code",
   "execution_count": 24,
   "id": "dcae8369",
   "metadata": {},
   "outputs": [
    {
     "data": {
      "text/plain": [
       "HPD      39067\n",
       "DOT      17707\n",
       "NYPD     15295\n",
       "DEP       8897\n",
       "DSNY      8385\n",
       "DOF       6370\n",
       "DPR       4614\n",
       "DOHMH     3237\n",
       "DOB       3014\n",
       "TLC       1491\n",
       "DCA       1405\n",
       "FDNY       631\n",
       "HRA        392\n",
       "DHS        101\n",
       "EDC         99\n",
       "DOE         97\n",
       "3-1-1       92\n",
       "CHALL       77\n",
       "DOITT       31\n",
       "OEM         29\n",
       "DFTA        22\n",
       "OPS          8\n",
       "OATH         4\n",
       "DOP          2\n",
       "COIB         1\n",
       "OMB          1\n",
       "Name: Agency, dtype: int64"
      ]
     },
     "execution_count": 24,
     "metadata": {},
     "output_type": "execute_result"
    }
   ],
   "source": [
    "complaints['Agency'].value_counts()"
   ]
  },
  {
   "cell_type": "markdown",
   "id": "9858f21d",
   "metadata": {},
   "source": [
    "### HPD recieved the most and OMB and COIB recieved the least complaints"
   ]
  },
  {
   "cell_type": "markdown",
   "id": "e7de9245",
   "metadata": {},
   "source": [
    "## 9. Investigate the data set and look for meaningful information for two more questions (Indivijual/ discuss with partner)\n",
    "We will discuss the new findings in Tueaday's class"
   ]
  },
  {
   "cell_type": "code",
   "execution_count": 25,
   "id": "f24f5790",
   "metadata": {},
   "outputs": [
    {
     "data": {
      "text/plain": [
       "<AxesSubplot:>"
      ]
     },
     "execution_count": 25,
     "metadata": {},
     "output_type": "execute_result"
    },
    {
     "data": {
      "image/png": "[encoded data removed]",
      "text/plain": [
       "<Figure size 640x480 with 1 Axes>"
      ]
     },
     "metadata": {},
     "output_type": "display_data"
    }
   ],
   "source": [
    "complaints['Location_Type'].value_counts().head(5).plot(kind=\"barh\")"
   ]
  },
  {
   "cell_type": "markdown",
   "id": "89371a65",
   "metadata": {},
   "source": [
    "### They recieve the most complaints when it comes to residential buildings"
   ]
  },
  {
   "cell_type": "code",
   "execution_count": 26,
   "id": "1d0fa020",
   "metadata": {},
   "outputs": [
    {
     "data": {
      "text/plain": [
       "<AxesSubplot:ylabel='Status'>"
      ]
     },
     "execution_count": 26,
     "metadata": {},
     "output_type": "execute_result"
    },
    {
     "data": {
      "image/png": "[encoded data removed]",
      "text/plain": [
       "<Figure size 640x480 with 1 Axes>"
      ]
     },
     "metadata": {},
     "output_type": "display_data"
    }
   ],
   "source": [
    "complaints['Status'].value_counts().plot(kind=\"pie\")"
   ]
  },
  {
   "cell_type": "markdown",
   "id": "06e59953",
   "metadata": {},
   "source": [
    "### The departments have successfully closed the majority of cases"
   ]
  },
  {
   "cell_type": "markdown",
   "id": "d5077e20",
   "metadata": {},
   "source": [
    "### 10. Select illegal Parking complains at Queens Borough and save it to new_complaint. How many entries are there?\n",
    "You can use `query`/iloc"
   ]
  },
  {
   "cell_type": "code",
   "execution_count": 27,
   "id": "2d1afcc5",
   "metadata": {},
   "outputs": [
    {
     "data": {
      "text/plain": [
       "Index(['Unique_Key', 'Created_Date', 'Closed_Date', 'Agency', 'Agency_Name',\n",
       "       'Complaint_Type', 'Descriptor', 'Location_Type', 'Incident_Zip',\n",
       "       'Incident_Address', 'Street_Name', 'Cross_Street_1', 'Cross_Street_2',\n",
       "       'Intersection_Street_1', 'Intersection_Street_2', 'Address_Type',\n",
       "       'City', 'Landmark', 'Facility_Type', 'Status', 'Due_Date',\n",
       "       'Resolution_Action_Updated_Date', 'Community_Board', 'Borough',\n",
       "       'X_Coordinate_(State_Plane)', 'Y_Coordinate_(State_Plane)',\n",
       "       'Park_Facility_Name', 'Park_Borough', 'School_Name', 'School_Number',\n",
       "       'School_Region', 'School_Code', 'School_Phone_Number', 'School_Address',\n",
       "       'School_City', 'School_State', 'School_Zip', 'School_Not_Found',\n",
       "       'School_or_Citywide_Complaint', 'Vehicle_Type', 'Taxi_Company_Borough',\n",
       "       'Taxi_Pick_Up_Location', 'Bridge_Highway_Name', 'Latitude', 'Longitude',\n",
       "       'Location', 'month', 'year'],\n",
       "      dtype='object')"
      ]
     },
     "execution_count": 27,
     "metadata": {},
     "output_type": "execute_result"
    }
   ],
   "source": [
    "complaints.columns"
   ]
  },
  {
   "cell_type": "code",
   "execution_count": 28,
   "id": "a63c768e",
   "metadata": {},
   "outputs": [
    {
     "data": {
      "text/plain": [
       "887"
      ]
     },
     "execution_count": 28,
     "metadata": {},
     "output_type": "execute_result"
    }
   ],
   "source": [
    "new_complaints=complaints.query('Complaint_Type==\"Illegal Parking\" & Borough==\"QUEENS\"')\n",
    "len(new_complaints)\n"
   ]
  },
  {
   "cell_type": "code",
   "execution_count": null,
   "id": "e8cfb1ab",
   "metadata": {},
   "outputs": [],
   "source": []
  },
  {
   "cell_type": "markdown",
   "id": "65793089",
   "metadata": {},
   "source": [
    "### 11. Filter 3 columns `Complaint_Type, Created_Date,Descriptor` from the new_complaint and save it as a CSV file named **Complains at Queens**."
   ]
  },
  {
   "cell_type": "code",
   "execution_count": 29,
   "id": "f4587d7e",
   "metadata": {},
   "outputs": [],
   "source": [
    "new_complaints=new_complaints[['Complaint_Type','Created_Date','Descriptor']]"
   ]
  },
  {
   "cell_type": "code",
   "execution_count": 30,
   "id": "23639c4a",
   "metadata": {},
   "outputs": [],
   "source": [
    "new_complaints.to_csv('newdata',index=False)"
   ]
  },
  {
   "cell_type": "code",
   "execution_count": null,
   "id": "17af8a74",
   "metadata": {},
   "outputs": [],
   "source": []
  },
  {
   "cell_type": "markdown",
   "id": "b042f23a",
   "metadata": {},
   "source": [
    "### 12. Load it back to verify the data"
   ]
  },
  {
   "cell_type": "code",
   "execution_count": 31,
   "id": "8e1f7499",
   "metadata": {},
   "outputs": [],
   "source": [
    "df=pd.read_csv('newdata',index_col=[0])"
   ]
  },
  {
   "cell_type": "code",
   "execution_count": 32,
   "id": "18743ec3",
   "metadata": {},
   "outputs": [
    {
     "data": {
      "text/html": [
       "<div>\n",
       "<style scoped>\n",
       "    .dataframe tbody tr th:only-of-type {\n",
       "        vertical-align: middle;\n",
       "    }\n",
       "\n",
       "    .dataframe tbody tr th {\n",
       "        vertical-align: top;\n",
       "    }\n",
       "\n",
       "    .dataframe thead th {\n",
       "        text-align: right;\n",
       "    }\n",
       "</style>\n",
       "<table border=\"1\" class=\"dataframe\">\n",
       "  <thead>\n",
       "    <tr style=\"text-align: right;\">\n",
       "      <th></th>\n",
       "      <th>Created_Date</th>\n",
       "      <th>Descriptor</th>\n",
       "    </tr>\n",
       "    <tr>\n",
       "      <th>Complaint_Type</th>\n",
       "      <th></th>\n",
       "      <th></th>\n",
       "    </tr>\n",
       "  </thead>\n",
       "  <tbody>\n",
       "    <tr>\n",
       "      <th>Illegal Parking</th>\n",
       "      <td>2013-10-31 02:01:04</td>\n",
       "      <td>Commercial Overnight Parking</td>\n",
       "    </tr>\n",
       "    <tr>\n",
       "      <th>Illegal Parking</th>\n",
       "      <td>2013-10-30 23:20:57</td>\n",
       "      <td>Blocked Hydrant</td>\n",
       "    </tr>\n",
       "    <tr>\n",
       "      <th>Illegal Parking</th>\n",
       "      <td>2013-10-30 23:20:26</td>\n",
       "      <td>Posted Parking Sign Violation</td>\n",
       "    </tr>\n",
       "    <tr>\n",
       "      <th>Illegal Parking</th>\n",
       "      <td>2013-10-30 23:01:49</td>\n",
       "      <td>Commercial Overnight Parking</td>\n",
       "    </tr>\n",
       "    <tr>\n",
       "      <th>Illegal Parking</th>\n",
       "      <td>2013-10-30 22:33:28</td>\n",
       "      <td>Commercial Overnight Parking</td>\n",
       "    </tr>\n",
       "  </tbody>\n",
       "</table>\n",
       "</div>"
      ],
      "text/plain": [
       "                        Created_Date                     Descriptor\n",
       "Complaint_Type                                                     \n",
       "Illegal Parking  2013-10-31 02:01:04   Commercial Overnight Parking\n",
       "Illegal Parking  2013-10-30 23:20:57                Blocked Hydrant\n",
       "Illegal Parking  2013-10-30 23:20:26  Posted Parking Sign Violation\n",
       "Illegal Parking  2013-10-30 23:01:49   Commercial Overnight Parking\n",
       "Illegal Parking  2013-10-30 22:33:28   Commercial Overnight Parking"
      ]
     },
     "execution_count": 32,
     "metadata": {},
     "output_type": "execute_result"
    }
   ],
   "source": [
    "df.head()"
   ]
  },
  {
   "cell_type": "code",
   "execution_count": null,
   "id": "7078733c",
   "metadata": {},
   "outputs": [],
   "source": []
  }
 ],
 "metadata": {
  "kernelspec": {
   "display_name": "Python 3 (ipykernel)",
   "language": "python",
   "name": "python3"
  },
  "language_info": {
   "codemirror_mode": {
    "name": "ipython",
    "version": 3
   },
   "file_extension": ".py",
   "mimetype": "text/x-python",
   "name": "python",
   "nbconvert_exporter": "python",
   "pygments_lexer": "ipython3",
   "version": "3.9.13"
  }
 },
 "nbformat": 4,
 "nbformat_minor": 5
}
